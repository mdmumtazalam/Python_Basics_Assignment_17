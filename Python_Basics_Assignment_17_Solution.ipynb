{
  "cells": [
    {
      "cell_type": "markdown",
      "id": "bf849a81",
      "metadata": {
        "id": "bf849a81"
      },
      "source": [
        "# Python_Basics_Assignment_17 Solution :-\n",
        "SUBMITTED BY: MD MUMTAZ ALAM"
      ]
    },
    {
      "cell_type": "markdown",
      "id": "08af8c4c",
      "metadata": {
        "id": "08af8c4c"
      },
      "source": [
        "## 1. Assign the value 7 to the variable guess_me. Then, write the conditional tests (if, else, and elif) to print the string 'too low' if guess_me is less than 7, 'too high' if greater than 7, and 'just right' if equal to 7."
      ]
    },
    {
      "cell_type": "code",
      "execution_count": null,
      "id": "d0a2a574",
      "metadata": {
        "id": "d0a2a574",
        "outputId": "73f5a59d-e79a-4b94-dd34-c09d6895e190"
      },
      "outputs": [
        {
          "name": "stdout",
          "output_type": "stream",
          "text": [
            "just Right\n",
            "too Low\n",
            "too High\n"
          ]
        }
      ],
      "source": [
        "def guess_me(guess_me):\n",
        "    if guess_me < 7:\n",
        "        print('too Low')\n",
        "    elif guess_me > 7:\n",
        "        print('too High')\n",
        "    else:\n",
        "        print('just Right')\n",
        "\n",
        "guess_me(guess_me=7)\n",
        "guess_me(guess_me=5)\n",
        "guess_me(guess_me=15)"
      ]
    },
    {
      "cell_type": "markdown",
      "id": "13817137",
      "metadata": {
        "id": "13817137"
      },
      "source": [
        "## 2. Assign the value 7 to the variable guess_me and the value 1 to the variable start. Write a while loop that compares start with guess_me. Print too low if start is less than guess me. If start equals guess_me, print 'found it!' and exit the loop. If start is greater than guess_me, print 'oops' and exit the loop. Increment start at the end of the loop"
      ]
    },
    {
      "cell_type": "code",
      "execution_count": null,
      "id": "24df1b30",
      "metadata": {
        "id": "24df1b30",
        "outputId": "720ed417-c6f4-47f3-b546-aa2d8805c82f"
      },
      "outputs": [
        {
          "name": "stdout",
          "output_type": "stream",
          "text": [
            "too low\n",
            "too low\n",
            "too low\n",
            "too low\n",
            "too low\n",
            "too low\n",
            "found it\n"
          ]
        }
      ],
      "source": [
        "guess_me = 7\n",
        "start = 1\n",
        "while True:\n",
        "    if start < guess_me:\n",
        "        print('too low')\n",
        "    elif start == guess_me:\n",
        "        print('found it')\n",
        "        break\n",
        "    else:\n",
        "        print('oops')\n",
        "        break\n",
        "    start += 1"
      ]
    },
    {
      "cell_type": "markdown",
      "id": "c427588e",
      "metadata": {
        "id": "c427588e"
      },
      "source": [
        "## 3. Print the following values of the list [3, 2, 1, 0] using a for loop."
      ]
    },
    {
      "cell_type": "code",
      "execution_count": null,
      "id": "5ce5592b",
      "metadata": {
        "id": "5ce5592b",
        "outputId": "129faa23-8e07-4a2e-a118-e04189928c30"
      },
      "outputs": [
        {
          "name": "stdout",
          "output_type": "stream",
          "text": [
            "3\n",
            "2\n",
            "1\n",
            "0\n"
          ]
        }
      ],
      "source": [
        "in_list = [3,2,1,0]\n",
        "for ele in in_list:\n",
        "    print(ele)"
      ]
    },
    {
      "cell_type": "markdown",
      "id": "c18673ea",
      "metadata": {
        "id": "c18673ea"
      },
      "source": [
        "## 4. Use a list comprehension to make a list of the even numbers in range(10)"
      ]
    },
    {
      "cell_type": "code",
      "execution_count": null,
      "id": "a2059194",
      "metadata": {
        "id": "a2059194",
        "outputId": "f0389f26-bf89-4427-ba0d-da60a3e4ee3e"
      },
      "outputs": [
        {
          "name": "stdout",
          "output_type": "stream",
          "text": [
            "[0, 2, 4, 6, 8, 10]\n"
          ]
        }
      ],
      "source": [
        "print([x for x in range(10+1) if x%2==0 ])"
      ]
    },
    {
      "cell_type": "markdown",
      "id": "5aed31c5",
      "metadata": {
        "id": "5aed31c5"
      },
      "source": [
        "## 5. Use a dictionary comprehension to create the dictionary squares. Use range(10) to return the keys, and use the square of each key as its value."
      ]
    },
    {
      "cell_type": "code",
      "execution_count": null,
      "id": "c68af98a",
      "metadata": {
        "id": "c68af98a",
        "outputId": "9eafe448-3926-4a07-dc90-87c7eb6b3b26"
      },
      "outputs": [
        {
          "name": "stdout",
          "output_type": "stream",
          "text": [
            "{0: 0, 1: 1, 2: 4, 3: 9, 4: 16, 5: 25, 6: 36, 7: 49, 8: 64, 9: 81}\n",
            "{0: 0, 1: 1, 2: 4, 3: 9, 4: 16, 5: 25, 6: 36, 7: 49, 8: 64, 9: 81}\n"
          ]
        }
      ],
      "source": [
        "# Method 1\n",
        "print(dict([(x,pow(x,2)) for x in range(10)]))\n",
        "# Method 2\n",
        "print({x:x**2 for x in range(10)})"
      ]
    },
    {
      "cell_type": "markdown",
      "id": "8147c0cd",
      "metadata": {
        "id": "8147c0cd"
      },
      "source": [
        "## 6. Construct the set odd from the odd numbers in the range using a set comprehension (10)."
      ]
    },
    {
      "cell_type": "code",
      "execution_count": null,
      "id": "189f1c6c",
      "metadata": {
        "id": "189f1c6c",
        "outputId": "38cc3a2f-14c3-4b8e-92e5-778e00c459a5"
      },
      "outputs": [
        {
          "name": "stdout",
          "output_type": "stream",
          "text": [
            "{1, 3, 5, 7, 9}\n"
          ]
        }
      ],
      "source": [
        "print({x for x in range(10) if x%2 !=0})"
      ]
    },
    {
      "cell_type": "markdown",
      "id": "5317e235",
      "metadata": {
        "id": "5317e235"
      },
      "source": [
        "## 7. Use a generator comprehension to return the string 'Got ' and a number for the numbers in range(10). Iterate through this by using a for loop"
      ]
    },
    {
      "cell_type": "code",
      "execution_count": null,
      "id": "83168618",
      "metadata": {
        "id": "83168618",
        "outputId": "8583c633-63ba-4124-8a8e-1ff1478c2408"
      },
      "outputs": [
        {
          "name": "stdout",
          "output_type": "stream",
          "text": [
            "Got_0 Got_1 Got_2 Got_3 Got_4 Got_5 Got_6 Got_7 Got_8 Got_9 "
          ]
        }
      ],
      "source": [
        "gen_com = ('Got_'+str(x) for x in range(10))\n",
        "for ele in gen_com:\n",
        "    print(ele, end=' ')"
      ]
    },
    {
      "cell_type": "markdown",
      "id": "98079d64",
      "metadata": {
        "id": "98079d64"
      },
      "source": [
        "## 8. Define a function called good that returns the list ['Harry', 'Ron', 'Hermione']."
      ]
    },
    {
      "cell_type": "code",
      "execution_count": null,
      "id": "64d3e523",
      "metadata": {
        "id": "64d3e523",
        "outputId": "2cda4974-729f-495b-8e73-608b4a8d4aac"
      },
      "outputs": [
        {
          "name": "stdout",
          "output_type": "stream",
          "text": [
            "['Harry', 'Ron', 'Hermione']\n"
          ]
        }
      ],
      "source": [
        "def good():\n",
        "    x =  ['Harry', 'Ron', 'Hermione']\n",
        "    return x\n",
        "print(good())"
      ]
    },
    {
      "cell_type": "markdown",
      "id": "6befc929",
      "metadata": {
        "id": "6befc929"
      },
      "source": [
        "## 9. Define a generator function called get_odds that returns the odd numbers from range(10). Use a for loop to find and print the third value returned."
      ]
    },
    {
      "cell_type": "code",
      "execution_count": null,
      "id": "2b076409",
      "metadata": {
        "id": "2b076409",
        "outputId": "250fa64c-48f8-4714-c6e5-7c4c09bfbb17"
      },
      "outputs": [
        {
          "data": {
            "text/plain": [
              "5"
            ]
          },
          "execution_count": 9,
          "metadata": {},
          "output_type": "execute_result"
        }
      ],
      "source": [
        "def get_odds():\n",
        "    output = []\n",
        "    for ele in range(10):\n",
        "        if ele%2 != 0:\n",
        "            output.append(ele)\n",
        "    yield output\n",
        "\n",
        "next(get_odds())[2]"
      ]
    },
    {
      "cell_type": "markdown",
      "id": "182d1f53",
      "metadata": {
        "id": "182d1f53"
      },
      "source": [
        "## 10. Define an exception called OopsException. Raise this exception to see what happens. Then write the code to catch this exception and print 'Caught an oops'."
      ]
    },
    {
      "cell_type": "code",
      "execution_count": null,
      "id": "0a3bff77",
      "metadata": {
        "id": "0a3bff77",
        "outputId": "ebf8f942-4b50-4286-a601-27475ed1ba9f"
      },
      "outputs": [
        {
          "name": "stdout",
          "output_type": "stream",
          "text": [
            "Caught in Oops -> name 'a' is not defined\n"
          ]
        }
      ],
      "source": [
        "class OopsException(Exception):\n",
        "    pass\n",
        "\n",
        "def test(input):\n",
        "    if input <0:\n",
        "        raise OopsException(a)\n",
        "try:\n",
        "    test(-100)\n",
        "except Exception as e:\n",
        "    print('Caught in Oops ->',e)"
      ]
    },
    {
      "cell_type": "markdown",
      "id": "04093852",
      "metadata": {
        "id": "04093852"
      },
      "source": [
        "## 11. Use zip() to make a dictionary called movies that pairs these lists: titles = ['Creature of Habit', 'Crewel Fate'] and plots = ['A nun turns into a monster', 'A haunted yarn shop']."
      ]
    },
    {
      "cell_type": "code",
      "execution_count": null,
      "id": "ec0fd741",
      "metadata": {
        "id": "ec0fd741",
        "outputId": "f38bf313-3a21-4648-e3d4-49de33c589b8"
      },
      "outputs": [
        {
          "name": "stdout",
          "output_type": "stream",
          "text": [
            "{'Creature of Habit': 'A nun turns into a monster', 'Crewel Fate': 'A haunted yarn shop'}\n"
          ]
        }
      ],
      "source": [
        "titles = ['Creature of Habit', 'Crewel Fate']\n",
        "plots = ['A nun turns into a monster', 'A haunted yarn shop']\n",
        "output = dict(zip(titles,plots))\n",
        "print(output)"
      ]
    },
    {
      "cell_type": "markdown",
      "id": "d5cb83b4",
      "metadata": {
        "id": "d5cb83b4"
      },
      "source": [
        "# Thank You"
      ]
    }
  ],
  "metadata": {
    "kernelspec": {
      "display_name": "Python 3 (ipykernel)",
      "language": "python",
      "name": "python3"
    },
    "language_info": {
      "codemirror_mode": {
        "name": "ipython",
        "version": 3
      },
      "file_extension": ".py",
      "mimetype": "text/x-python",
      "name": "python",
      "nbconvert_exporter": "python",
      "pygments_lexer": "ipython3",
      "version": "3.9.7"
    },
    "colab": {
      "provenance": []
    }
  },
  "nbformat": 4,
  "nbformat_minor": 5
}